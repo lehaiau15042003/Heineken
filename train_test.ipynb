{
 "cells": [
  {
   "cell_type": "code",
   "execution_count": 1,
   "metadata": {},
   "outputs": [],
   "source": [
    "from sklearn.model_selection import train_test_split\n",
    "import numpy as np\n",
    "import matplotlib.pyplot as plt\n",
    "import os\n",
    "import cv2"
   ]
  },
  {
   "cell_type": "code",
   "execution_count": 7,
   "metadata": {},
   "outputs": [],
   "source": [
    "my_dir = \"D:\\Project\\Heineken\\FULL [Heineken Vietnam] Developer Resources\"\n",
    "img_list = os.listdir(my_dir)"
   ]
  },
  {
   "cell_type": "code",
   "execution_count": 8,
   "metadata": {},
   "outputs": [],
   "source": [
    "img_files = []\n",
    "labels = []\n",
    "\n",
    "for root, dirs, files in os.walk(my_dir):\n",
    "    for file in files:\n",
    "        extensions = ('.jpg', '.png', '.gif', '.jpeg')\n",
    "        if file.lower().endswith(extensions):\n",
    "            img_files.append(os.path.join(root, file))\n",
    "            labels.append(1)\n",
    "\n",
    "labels = np.array(labels)"
   ]
  },
  {
   "cell_type": "code",
   "execution_count": 9,
   "metadata": {},
   "outputs": [
    {
     "name": "stdout",
     "output_type": "stream",
     "text": [
      "Number of training images: 1187\n",
      "Number of testing images: 297\n"
     ]
    }
   ],
   "source": [
    "X_train, X_test, y_train, y_test = train_test_split(img_files, labels, test_size=0.2, random_state=42)\n",
    "\n",
    "print(f\"Number of training images: {len(X_train)}\")\n",
    "print(f\"Number of testing images: {len(X_test)}\")"
   ]
  },
  {
   "cell_type": "code",
   "execution_count": null,
   "metadata": {},
   "outputs": [],
   "source": []
  }
 ],
 "metadata": {
  "kernelspec": {
   "display_name": "base",
   "language": "python",
   "name": "python3"
  },
  "language_info": {
   "codemirror_mode": {
    "name": "ipython",
    "version": 3
   },
   "file_extension": ".py",
   "mimetype": "text/x-python",
   "name": "python",
   "nbconvert_exporter": "python",
   "pygments_lexer": "ipython3",
   "version": "3.10.9"
  }
 },
 "nbformat": 4,
 "nbformat_minor": 2
}
